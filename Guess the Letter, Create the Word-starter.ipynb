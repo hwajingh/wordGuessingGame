{
 "cells": [
  {
   "cell_type": "markdown",
   "metadata": {},
   "source": [
    "**Create a Letter Guessing Game**\n",
    "\n",
    "Create a program that allows a user 7 chances to guess the correct word. If they do not guess the word after 7 tries, the player loses and the program will print the correct word. Otherwise, the play wins and the game.\n",
    "\n",
    "**How to build the program**\n",
    "* When you start the game, you will need to select a random word from a list of at least 10 words (You have full control over which words you want to use for you program). This will be your secret word. Your secret word will be represented in the program as a group of underscores. For as long as the word is, you should also have that many underscores. \n",
    "\n",
    "* Once the word is selected, your game will commence. Perform a Google search to figure out how to select a random word from a list using Python.<br>\n",
    "**Hint** There's package you can import into your application that does this for you.\n",
    "\n",
    "* The end user will have a total of 7 chances to guess the correct letter from the secret word. If the end user makes 7 incorrect guesses, the game will end.\n",
    "\n",
    "* As you guess the correct letters, the letters you have guess will then take place of the underscores that letter represents. <br>\n",
    "**For Example**: If your secret word is 'watermelon' and  so far you have guessed the letters 'a' and 'e', the word you're trying to guess will appear as follows: _ a _ e _ _ e _ _ _.<br>\n",
    "**Keep in mind** that if you guess a letter that appears more than once in your secret word, make sure that the letter is populated anywhere that letter would be."
   ]
  },
  {
   "cell_type": "code",
   "execution_count": 5,
   "metadata": {},
   "outputs": [],
   "source": [
    "\n"
   ]
  },
  {
   "cell_type": "code",
   "execution_count": 10,
   "metadata": {},
   "outputs": [
    {
     "name": "stdout",
     "output_type": "stream",
     "text": [
      "your word is ['_', '_', '_', '_', '_', '_', '_']\n",
      "guess the letter \n",
      "t\n",
      "_ _ _ _ _ _ _\n",
      "guess the letter \n",
      "j\n",
      "_ _ _ _ _ _ _\n",
      "guess the letter \n",
      "jk\n",
      "_ _ _ _ _ _ _\n",
      "guess the letter \n",
      "j\n",
      "_ _ _ _ _ _ _\n",
      "guess the letter \n",
      "j\n",
      "_ _ _ _ _ _ _\n",
      "guess the letter \n",
      "j\n",
      "_ _ _ _ _ _ _\n",
      "guess the letter \n",
      "j\n",
      "_ _ _ _ _ _ _\n",
      "you didnt guess it right\n"
     ]
    }
   ],
   "source": [
    "import random\n",
    "from IPython.display import clear_output \n",
    "\n",
    "\n",
    "\n",
    "def converttolist(word):\n",
    "    list1=[]\n",
    "    list1[:0]=word\n",
    "    return list1\n",
    "\n",
    "mylist = [\"apple\", \"banana\", \"cherry\", \"watermelon\", \"guava\", \"strawberry\", \"oranges\", \"grape\", \"pear\", \"lemon\"]\n",
    "\n",
    "random_index = random.randint(0,len(mylist)-1)\n",
    "\n",
    "word = mylist[random_index]\n",
    "\n",
    "wordstr = converttolist(word)\n",
    "\n",
    "# print(converttolist(word))\n",
    "\n",
    "guessstr = []\n",
    "\n",
    "for x in range(0, len(wordstr)):\n",
    "    guessstr.append(\"_\")\n",
    "\n",
    "# print(\" \".join(guessstr))\n",
    "\n",
    "\n",
    "\n",
    "print(f\"your word is {guessstr}\")\n",
    "\n",
    "guesses = 1\n",
    "\n",
    "while guesses <8:\n",
    "    userguess = input(\"guess the letter \\n\")\n",
    "    if userguess in wordstr:\n",
    "        for x in range(0, len(wordstr)):\n",
    "            if userguess == wordstr[x]:\n",
    "                guessstr.pop(x)\n",
    "                guessstr.insert(x, userguess)\n",
    "    else: \n",
    "        guesses+=1 \n",
    "        \n",
    "    if \"_\" not in guessstr and guessstr == wordstr:\n",
    "        print(\"you got it\")\n",
    "        print(\"\".join(guessstr))\n",
    "        break\n",
    "    \n",
    "    print(\" \".join(guessstr))\n",
    "        \n",
    "    if guesses >= 8:\n",
    "        print(\"you didnt guess it right\")\n",
    "\n",
    "\n"
   ]
  },
  {
   "cell_type": "code",
   "execution_count": null,
   "metadata": {},
   "outputs": [],
   "source": []
  },
  {
   "cell_type": "code",
   "execution_count": null,
   "metadata": {},
   "outputs": [],
   "source": []
  }
 ],
 "metadata": {
  "kernelspec": {
   "display_name": "Python 3 (ipykernel)",
   "language": "python",
   "name": "python3"
  },
  "language_info": {
   "codemirror_mode": {
    "name": "ipython",
    "version": 3
   },
   "file_extension": ".py",
   "mimetype": "text/x-python",
   "name": "python",
   "nbconvert_exporter": "python",
   "pygments_lexer": "ipython3",
   "version": "3.9.7"
  }
 },
 "nbformat": 4,
 "nbformat_minor": 2
}
